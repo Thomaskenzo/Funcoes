{
 "cells": [
  {
   "cell_type": "code",
   "execution_count": 1,
   "metadata": {},
   "outputs": [],
   "source": [
    "import pandas as pd\n",
    "import matplotlib\n",
    "import matplotlib.pyplot as plt\n",
    "matplotlib.__version__ #'3.4.2'"
   ]
  },
  {
   "cell_type": "code",
   "execution_count": 21,
   "metadata": {},
   "outputs": [
    {
     "data": {
      "text/html": [
       "<div>\n",
       "<style scoped>\n",
       "    .dataframe tbody tr th:only-of-type {\n",
       "        vertical-align: middle;\n",
       "    }\n",
       "\n",
       "    .dataframe tbody tr th {\n",
       "        vertical-align: top;\n",
       "    }\n",
       "\n",
       "    .dataframe thead th {\n",
       "        text-align: right;\n",
       "    }\n",
       "</style>\n",
       "<table border=\"1\" class=\"dataframe\">\n",
       "  <thead>\n",
       "    <tr style=\"text-align: right;\">\n",
       "      <th></th>\n",
       "      <th>anomes</th>\n",
       "      <th>area</th>\n",
       "      <th>tipo</th>\n",
       "      <th>qtd</th>\n",
       "    </tr>\n",
       "  </thead>\n",
       "  <tbody>\n",
       "    <tr>\n",
       "      <th>0</th>\n",
       "      <td>202201</td>\n",
       "      <td>area1</td>\n",
       "      <td>1. 0-4</td>\n",
       "      <td>9</td>\n",
       "    </tr>\n",
       "    <tr>\n",
       "      <th>1</th>\n",
       "      <td>202201</td>\n",
       "      <td>area1</td>\n",
       "      <td>2. 5-8</td>\n",
       "      <td>7</td>\n",
       "    </tr>\n",
       "  </tbody>\n",
       "</table>\n",
       "</div>"
      ],
      "text/plain": [
       "   anomes   area    tipo  qtd\n",
       "0  202201  area1  1. 0-4    9\n",
       "1  202201  area1  2. 5-8    7"
      ]
     },
     "metadata": {},
     "output_type": "display_data"
    },
    {
     "data": {
      "image/png": "[encoded data removed]",
      "text/plain": [
       "<Figure size 360x216 with 1 Axes>"
      ]
     },
     "metadata": {
      "needs_background": "light"
     },
     "output_type": "display_data"
    }
   ],
   "source": [
    "teste = pd.DataFrame({\n",
    "    'anomes':['202201','202201','202201','202201','202202','202202','202202','202202','202203','202203','202203','202203'],\n",
    "    'area':['area1','area1','area2','area2','area1','area1','area2','area2','area1','area1','area2','area2'],\n",
    "    'tipo':['1. 0-4','2. 5-8','1. 0-4','2. 5-8','1. 0-4','2. 5-8','1. 0-4','2. 5-8','1. 0-4','2. 5-8','1. 0-4','2. 5-8'],\n",
    "    'qtd':[9,7,7,8,4,5,5,6,3,2,2,1]})\n",
    "\n",
    "\n",
    "df_graph = teste[teste['anomes'] == '202201']\n",
    "df_graph = df_graph[df_graph['area'] == 'area1']\n",
    "X = df_graph['tipo']\n",
    "Y = df_graph['qtd']\n",
    "fig, ax = plt.subplots(figsize=(5,3))\n",
    "graph = plt.bar(X, Y, label = 'anomes_')\n",
    "\n",
    "plt.title('Titulo do Grafico',fontsize=20)\n",
    "plt.xlabel('Eixo X',fontsize=15)\n",
    "plt.ylabel('Eixo Y',fontsize=15)\n",
    "#plt.xlim([25, 50])#[25, 50]\n",
    "plt.ylim([0, 15])\n",
    "\n",
    "ax.tick_params(axis='both', which='major', labelsize=14) #x, y, both\n",
    "ax.spines['top'].set_visible(False) #top, bottom, left, right\n",
    "ax.spines['right'].set_visible(False)\n",
    "ax.bar_label(graph, fmt='%d', size=15, label_type=\"edge\")#'%.01f','%d', '%s'\n",
    "display(df_graph)\n",
    "plt.show()"
   ]
  }
 ],
 "metadata": {
  "kernelspec": {
   "display_name": "Python 3.8.8 ('base')",
   "language": "python",
   "name": "python3"
  },
  "language_info": {
   "codemirror_mode": {
    "name": "ipython",
    "version": 3
   },
   "file_extension": ".py",
   "mimetype": "text/x-python",
   "name": "python",
   "nbconvert_exporter": "python",
   "pygments_lexer": "ipython3",
   "version": "3.8.8 (default, Apr 13 2021, 15:08:03) [MSC v.1916 64 bit (AMD64)]"
  },
  "orig_nbformat": 4,
  "vscode": {
   "interpreter": {
    "hash": "8da698369e59b0a38f6c0153495fda96d568aa9214d0fa0f1e47209d9f91dee5"
   }
  }
 },
 "nbformat": 4,
 "nbformat_minor": 2
}
