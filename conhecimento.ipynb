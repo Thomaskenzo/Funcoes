{
 "cells": [
  {
   "cell_type": "markdown",
   "metadata": {},
   "source": [
    "<a id='the_top'></a>\n",
    "# Arquivo de Funcoes Uteis\n",
    "[Time Functions](#Time-Functions)\n",
    "\n",
    "[Analysis](#analysis)\n",
    "\n",
    "[Help](#help)"
   ]
  },
  {
   "cell_type": "code",
   "execution_count": 3,
   "metadata": {},
   "outputs": [],
   "source": [
    "import pandas as pd\n",
    "import time"
   ]
  },
  {
   "cell_type": "markdown",
   "metadata": {},
   "source": [
    "[Go to top of file](#Arquivo-de-Funcoes-Uteis)\n",
    "<a id='gt_time'> </a>\n",
    "## Time Functions"
   ]
  },
  {
   "cell_type": "code",
   "execution_count": 47,
   "metadata": {},
   "outputs": [],
   "source": []
  },
  {
   "cell_type": "code",
   "execution_count": 51,
   "metadata": {},
   "outputs": [],
   "source": [
    "import time\n",
    "import chime\n",
    "chime.theme(chime.themes()[2])\n",
    "def tictoc(func):\n",
    "    def wrapper(*args, **kwargs):\n",
    "        t1 = time.perf_counter()\n",
    "        func(*args, **kwargs)\n",
    "        print(f'{func.__name__} : {round(time.perf_counter() - t1,1)} seconds')\n",
    "        chime.success()\n",
    "    return wrapper\n",
    "\n",
    "@tictoc\n",
    "def teste_time():\n",
    "    time.sleep(3)\n",
    "    return"
   ]
  },
  {
   "cell_type": "code",
   "execution_count": 5,
   "metadata": {},
   "outputs": [
    {
     "name": "stdout",
     "output_type": "stream",
     "text": [
      "teste_time : 3.0 seconds\n"
     ]
    }
   ],
   "source": [
    "teste_time()"
   ]
  },
  {
   "cell_type": "code",
   "execution_count": 5,
   "metadata": {},
   "outputs": [
    {
     "name": "stdout",
     "output_type": "stream",
     "text": [
      "Tempo de execucao Start - End: 0.08 Minutos\n"
     ]
    }
   ],
   "source": [
    "import time\n",
    "import chime\n",
    "chime.theme(chime.themes()[2])\n",
    "def timeit():\n",
    "    return time.perf_counter()\n",
    "def delta_time(start, end):\n",
    "    chime.success()\n",
    "    time.sleep(0.6)\n",
    "    print(f'Tempo de execucao Start - End: {round((end - start)/60,2)} Minutos')\n",
    "    return \n",
    "\n",
    "inicio = timeit()\n",
    "time.sleep(5)\n",
    "fim = timeit()\n",
    "delta_time(inicio, fim)"
   ]
  },
  {
   "cell_type": "markdown",
   "metadata": {},
   "source": [
    "[Go to top of file](#Help)\n",
    "<a id='gt_analysis'> </a>\n",
    "## Analysis"
   ]
  },
  {
   "cell_type": "code",
   "execution_count": 28,
   "metadata": {},
   "outputs": [],
   "source": [
    "#Groupby\n",
    "import pandas as pd\n",
    "def agrup(group, dic):\n",
    "    # mean(): Compute mean of groups\n",
    "    # sum(): Compute sum of group values\n",
    "    # size(): Compute group sizes\n",
    "    # count(): Compute count of group\n",
    "    # std(): Standard deviation of groups\n",
    "    # var(): Compute variance of groups\n",
    "    # sem(): Standard error of the mean of groups\n",
    "    # min(): Compute min of group values\n",
    "    # max(): Compute max of group values\n",
    "\n",
    "    # Call: dic = {'Nome_agrupamento': ('Coluna_Agrupada', 'funcao')}\n",
    "    # Agrupamento = dataframe.groupby(by=['Coluna_Chave']).apply(agrup,dic)\n",
    "    agrupado = {}\n",
    "    for key in dic:\n",
    "        agrupado[key] = group[dic[key][0]].agg(dic[key][1])\n",
    "    return pd.Series(agrupado)\n",
    " \n",
    "base = pd.DataFrame({'Aluno':['p1','p2','p3','p4','p5'],\n",
    "                     'Escola': ['e1','e1','e2','e2','e3'],\n",
    "                     'Pontos':[2,10,50,100,99]})\n",
    "dic = {'Count': ('Pontos', 'size'),\n",
    "        'Media': ('Pontos', 'mean'),\n",
    "        'Soma': ('Pontos','sum'),\n",
    "        'Maximo':('Pontos','max'),\n",
    "        'Desvio':('Pontos','std')}\n",
    "agrupamento = base.groupby(by=['Escola']).apply(agrup,dic).reset_index()"
   ]
  },
  {
   "cell_type": "code",
   "execution_count": 29,
   "metadata": {},
   "outputs": [
    {
     "data": {
      "text/html": [
       "<div>\n",
       "<style scoped>\n",
       "    .dataframe tbody tr th:only-of-type {\n",
       "        vertical-align: middle;\n",
       "    }\n",
       "\n",
       "    .dataframe tbody tr th {\n",
       "        vertical-align: top;\n",
       "    }\n",
       "\n",
       "    .dataframe thead th {\n",
       "        text-align: right;\n",
       "    }\n",
       "</style>\n",
       "<table border=\"1\" class=\"dataframe\">\n",
       "  <thead>\n",
       "    <tr style=\"text-align: right;\">\n",
       "      <th></th>\n",
       "      <th>Escola</th>\n",
       "      <th>Count</th>\n",
       "      <th>Media</th>\n",
       "      <th>Soma</th>\n",
       "      <th>Maximo</th>\n",
       "      <th>Desvio</th>\n",
       "    </tr>\n",
       "  </thead>\n",
       "  <tbody>\n",
       "    <tr>\n",
       "      <th>0</th>\n",
       "      <td>e1</td>\n",
       "      <td>2.0</td>\n",
       "      <td>6.0</td>\n",
       "      <td>12.0</td>\n",
       "      <td>10.0</td>\n",
       "      <td>5.656854</td>\n",
       "    </tr>\n",
       "    <tr>\n",
       "      <th>1</th>\n",
       "      <td>e2</td>\n",
       "      <td>2.0</td>\n",
       "      <td>75.0</td>\n",
       "      <td>150.0</td>\n",
       "      <td>100.0</td>\n",
       "      <td>35.355339</td>\n",
       "    </tr>\n",
       "    <tr>\n",
       "      <th>2</th>\n",
       "      <td>e3</td>\n",
       "      <td>1.0</td>\n",
       "      <td>99.0</td>\n",
       "      <td>99.0</td>\n",
       "      <td>99.0</td>\n",
       "      <td>NaN</td>\n",
       "    </tr>\n",
       "  </tbody>\n",
       "</table>\n",
       "</div>"
      ],
      "text/plain": [
       "  Escola  Count  Media   Soma  Maximo     Desvio\n",
       "0     e1    2.0    6.0   12.0    10.0   5.656854\n",
       "1     e2    2.0   75.0  150.0   100.0  35.355339\n",
       "2     e3    1.0   99.0   99.0    99.0        NaN"
      ]
     },
     "execution_count": 29,
     "metadata": {},
     "output_type": "execute_result"
    }
   ],
   "source": [
    "agrupamento"
   ]
  },
  {
   "cell_type": "markdown",
   "metadata": {},
   "source": [
    "[Go to top of file](#Arquivo-de-Funcoes-Uteis)\n",
    "## Help"
   ]
  },
  {
   "cell_type": "code",
   "execution_count": 8,
   "metadata": {},
   "outputs": [
    {
     "data": {
      "text/plain": [
       "['.git',\n",
       " 'conhecimento.ipynb',\n",
       " 'data_viz_python.ipynb',\n",
       " 'funcoes_kenzo.py',\n",
       " 'ML_testing.ipynb',\n",
       " 'try_import.py',\n",
       " '__pycache__']"
      ]
     },
     "execution_count": 8,
     "metadata": {},
     "output_type": "execute_result"
    }
   ],
   "source": [
    "#Get files from folder\n",
    "import os\n",
    "import sys\n",
    "path = './'\n",
    "os.listdir(path)"
   ]
  },
  {
   "cell_type": "code",
   "execution_count": 10,
   "metadata": {},
   "outputs": [],
   "source": [
    "#Make sound when finish\n",
    "import chime\n",
    "import time\n",
    "chime.theme(chime.themes()[2])\n",
    "def sucess():\n",
    "    for x in range(0,3):\n",
    "        chime.success()\n",
    "        time.sleep(0.6)\n",
    "    return\n",
    "sucess()"
   ]
  },
  {
   "cell_type": "code",
   "execution_count": 6,
   "metadata": {},
   "outputs": [],
   "source": [
    "#Rankeamento\n",
    "import pandas as pd\n",
    "df = pd.DataFrame({'Coluna1':['a','b','c','d','e','a','b','c','e','f','f','a','c','c','d','a','b'], 'Coluna2':[1,2,3,1,2,4,5,10,5,6,5,1,10,1,10,9,7]})\n",
    "df['rank'] = df.groupby(by=['Coluna1'])['Coluna2'].rank(ascending=False, method='max')\n",
    "#df.sort_values(by=['Coluna1', 'rank'], ascending=[True, True],inplace=True)"
   ]
  },
  {
   "cell_type": "code",
   "execution_count": 9,
   "metadata": {},
   "outputs": [
    {
     "name": "stdout",
     "output_type": "stream",
     "text": [
      "       _ii:  493.0 B\n",
      "       _i7:  493.0 B\n",
      "       _i9:  493.0 B\n",
      "       _i1:  364.0 B\n",
      "       _i4:  364.0 B\n",
      "       _oh:  232.0 B\n",
      "       Out:  232.0 B\n",
      "       _ih:  184.0 B\n",
      "        In:  184.0 B\n",
      "      open:  144.0 B\n"
     ]
    }
   ],
   "source": [
    "#Check Size of Variables\n",
    "def sizeof(num, suffix='B'):\n",
    "    for unit in ['', 'Ki', 'Mi', 'Gi', 'Ti', 'Pi', 'Ei', 'Zi']:\n",
    "        if abs(num)<1024:\n",
    "            return '%3.1f %s%s' % (num, unit, suffix)\n",
    "        num = num/1024\n",
    "    return '%.1f %s%s' % (num, 'Yi', suffix)\n",
    "    \n",
    "for name, size in sorted(((name, sys.getsizeof(value)) for name, value in locals().items()), key=lambda x: -x[1])[:10]:\n",
    "    print('{:>10}: {:>8}'.format(name, sizeof(size)))"
   ]
  },
  {
   "cell_type": "markdown",
   "metadata": {},
   "source": [
    "# Data Viz"
   ]
  },
  {
   "cell_type": "code",
   "execution_count": 30,
   "metadata": {},
   "outputs": [
    {
     "name": "stdout",
     "output_type": "stream",
     "text": [
      "area1\n"
     ]
    },
    {
     "ename": "NameError",
     "evalue": "name 'plt' is not defined",
     "output_type": "error",
     "traceback": [
      "\u001b[1;31m---------------------------------------------------------------------------\u001b[0m",
      "\u001b[1;31mNameError\u001b[0m                                 Traceback (most recent call last)",
      "\u001b[1;32m<ipython-input-30-73b8d17c77ea>\u001b[0m in \u001b[0;36m<module>\u001b[1;34m\u001b[0m\n\u001b[0;32m      9\u001b[0m     \u001b[0mprint\u001b[0m\u001b[1;33m(\u001b[0m\u001b[0marea_\u001b[0m\u001b[1;33m)\u001b[0m\u001b[1;33m\u001b[0m\u001b[1;33m\u001b[0m\u001b[0m\n\u001b[0;32m     10\u001b[0m     \u001b[0mgraph\u001b[0m \u001b[1;33m=\u001b[0m \u001b[0mteste\u001b[0m\u001b[1;33m[\u001b[0m\u001b[0mteste\u001b[0m\u001b[1;33m[\u001b[0m\u001b[1;34m'area'\u001b[0m\u001b[1;33m]\u001b[0m \u001b[1;33m==\u001b[0m \u001b[0marea_\u001b[0m\u001b[1;33m]\u001b[0m\u001b[1;33m\u001b[0m\u001b[1;33m\u001b[0m\u001b[0m\n\u001b[1;32m---> 11\u001b[1;33m     \u001b[0mfig\u001b[0m\u001b[1;33m,\u001b[0m \u001b[0max\u001b[0m \u001b[1;33m=\u001b[0m \u001b[0mplt\u001b[0m\u001b[1;33m.\u001b[0m\u001b[0msubplots\u001b[0m\u001b[1;33m(\u001b[0m\u001b[1;33m)\u001b[0m\u001b[1;33m\u001b[0m\u001b[1;33m\u001b[0m\u001b[0m\n\u001b[0m\u001b[0;32m     12\u001b[0m     \u001b[1;32mfor\u001b[0m \u001b[0manomes_\u001b[0m \u001b[1;32min\u001b[0m \u001b[0mgraph\u001b[0m\u001b[1;33m.\u001b[0m\u001b[0manomes\u001b[0m\u001b[1;33m.\u001b[0m\u001b[0munique\u001b[0m\u001b[1;33m(\u001b[0m\u001b[1;33m)\u001b[0m\u001b[1;33m:\u001b[0m\u001b[1;33m\u001b[0m\u001b[1;33m\u001b[0m\u001b[0m\n\u001b[0;32m     13\u001b[0m         \u001b[0mcolunas_dados\u001b[0m \u001b[1;33m=\u001b[0m \u001b[1;33m[\u001b[0m\u001b[0mx\u001b[0m \u001b[1;32mfor\u001b[0m \u001b[0mx\u001b[0m \u001b[1;32min\u001b[0m \u001b[0mgraph\u001b[0m\u001b[1;33m.\u001b[0m\u001b[0mcolumns\u001b[0m \u001b[1;32mif\u001b[0m \u001b[1;34m'-'\u001b[0m \u001b[1;32min\u001b[0m \u001b[0mx\u001b[0m\u001b[1;33m]\u001b[0m\u001b[1;33m\u001b[0m\u001b[1;33m\u001b[0m\u001b[0m\n",
      "\u001b[1;31mNameError\u001b[0m: name 'plt' is not defined"
     ]
    },
    {
     "ename": "",
     "evalue": "",
     "output_type": "error",
     "traceback": [
      "\u001b[1;31mThe Kernel crashed while executing code in the the current cell or a previous cell. Please review the code in the cell(s) to identify a possible cause of the failure. Click <a href='https://aka.ms/vscodeJupyterKernelCrash'>here</a> for more info. View Jupyter <a href='command:jupyter.viewOutput'>log</a> for further details."
     ]
    }
   ],
   "source": [
    "from copy import deepcopy\n",
    "teste = pd.DataFrame({\n",
    "    'anomes':['202201','202201','202201','202201','202202','202202','202202','202202','202203','202203','202203','202203'],\n",
    "    'area':['area1','area1','area2','area2','area1','area1','area2','area2','area1','area1','area2','area2'],\n",
    "    'tipo':['1. 0-4','2. 5-8','1. 0-4','2. 5-8','1. 0-4','2. 5-8','1. 0-4','2. 5-8','1. 0-4','2. 5-8','1. 0-4','2. 5-8'],\n",
    "    'qtd':[9,7,7,8,4,5,5,6,3,2,2,1]})\n",
    "teste = teste.pivot(index=['anomes','area'],columns=['tipo'])['qtd'].reset_index()\n",
    "for area_ in teste.area.unique():\n",
    "    print(area_)\n",
    "    graph = teste[teste['area'] == area_]\n",
    "    fig, ax = plt.subplots()\n",
    "    for anomes_ in graph.anomes.unique():\n",
    "        colunas_dados = [x for x in graph.columns if '-' in x]\n",
    "        X = deepcopy(colunas_dados)\n",
    "        Y = graph[graph['anomes'] == anomes_][colunas_dados].values[0]\n",
    "        plt.plot(X, Y, label = anomes_)\n",
    "        for a,b in zip(X, Y): \n",
    "            plt.text(a, b+0.1, str(b))\n",
    "    plt.title('Pessoas em Trabalho Presencial')\n",
    "    plt.xlabel('Dias Presenciais')\n",
    "    plt.ylabel('Quantidade de Pessoas')\n",
    "    plt.legend(loc=\"upper right\")\n",
    "    ax.spines['top'].set_visible(False) #top, bottom, right, left\n",
    "    ax.spines['right'].set_visible(False)\n",
    "    \n",
    "    plt.show()\n",
    "teste"
   ]
  },
  {
   "cell_type": "code",
   "execution_count": 3,
   "metadata": {},
   "outputs": [
    {
     "data": {
      "text/plain": [
       "2"
      ]
     },
     "execution_count": 3,
     "metadata": {},
     "output_type": "execute_result"
    }
   ],
   "source": [
    "1+1"
   ]
  },
  {
   "cell_type": "markdown",
   "metadata": {},
   "source": [
    "[Go to top of file](#Arquivo-de-Funcoes-Uteis)\n",
    "# Memoize\n"
   ]
  },
  {
   "cell_type": "code",
   "execution_count": 3,
   "metadata": {},
   "outputs": [
    {
     "data": {
      "text/plain": [
       "1544447803282326157141063860798140565135175279561812695372311151183404978544074576084779694906092198758336762454048905401589449506607204278264939097537573413980490519471907060934663660744135522705225"
      ]
     },
     "execution_count": 3,
     "metadata": {},
     "output_type": "execute_result"
    }
   ],
   "source": [
    "from functools import wraps\n",
    "import sys\n",
    "sys.setrecursionlimit(10_000)\n",
    "def memoize(func):\n",
    "    cache = {}\n",
    "    @wraps(func)\n",
    "    def wrapper(*args,**kwargs):\n",
    "        key = str(args) + str(kwargs)\n",
    "        if key not in cache:\n",
    "            cache[key] = func(*args,**kwargs)\n",
    "        return cache[key]\n",
    "    return wrapper\n",
    "\n",
    "@memoize\n",
    "def fibonacci(n):\n",
    "    if n < 2:\n",
    "        return n\n",
    "    else:\n",
    "        return fibonacci(n-1) + fibonacci(n-2)\n",
    "    \n",
    "fibonacci(950)"
   ]
  },
  {
   "cell_type": "code",
   "execution_count": 4,
   "metadata": {},
   "outputs": [
    {
     "data": {
      "text/plain": [
       "954521236278588975816913938063968779260873747465795884949378312109678175647627296076764558944928968059888214242449760455065605370660692836050793012165747204003730731419160152751883337579046951711449"
      ]
     },
     "execution_count": 4,
     "metadata": {},
     "output_type": "execute_result"
    }
   ],
   "source": [
    "import time\n",
    "import sys\n",
    "import chime\n",
    "from functools import lru_cache, cache\n",
    "chime.theme(chime.themes()[2])\n",
    "#sys.setrecursionlimit(2000)\n",
    "@lru_cache(maxsize=1000)\n",
    "def fibonacci(n):\n",
    "    if n in [1,2]:\n",
    "        return n-1\n",
    "    else:\n",
    "        return fibonacci(n-1) + fibonacci(n-2)\n",
    "t1 = time.perf_counter()\n",
    "fibonacci(950)\n"
   ]
  },
  {
   "cell_type": "markdown",
   "metadata": {},
   "source": [
    "# New"
   ]
  },
  {
   "cell_type": "code",
   "execution_count": 5,
   "metadata": {},
   "outputs": [],
   "source": [
    "def create_folder(path):\n",
    "    try:\n",
    "        os.mkdir(path)\n",
    "    except Exception as e:\n",
    "        if str(e).startswith(('[WinError 183]','[Errno 17]')):\n",
    "            pass\n",
    "        else:\n",
    "            print(e)"
   ]
  },
  {
   "cell_type": "code",
   "execution_count": null,
   "metadata": {},
   "outputs": [],
   "source": []
  }
 ],
 "metadata": {
  "interpreter": {
   "hash": "8da698369e59b0a38f6c0153495fda96d568aa9214d0fa0f1e47209d9f91dee5"
  },
  "kernelspec": {
   "display_name": "Python 3.8.8 ('base')",
   "language": "python",
   "name": "python3"
  },
  "language_info": {
   "codemirror_mode": {
    "name": "ipython",
    "version": 3
   },
   "file_extension": ".py",
   "mimetype": "text/x-python",
   "name": "python",
   "nbconvert_exporter": "python",
   "pygments_lexer": "ipython3",
   "version": "3.10.6"
  },
  "orig_nbformat": 4
 },
 "nbformat": 4,
 "nbformat_minor": 2
}
